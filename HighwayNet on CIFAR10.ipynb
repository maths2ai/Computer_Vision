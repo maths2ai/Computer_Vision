{
 "cells": [
  {
   "cell_type": "code",
   "execution_count": 1,
   "metadata": {},
   "outputs": [
    {
     "name": "stderr",
     "output_type": "stream",
     "text": [
      "Using TensorFlow backend.\n"
     ]
    }
   ],
   "source": [
    "# Importing section\n",
    "\n",
    "import keras \n",
    "import tensorflow as tf\n",
    "import numpy as np\n",
    "import time\n",
    "\n",
    "from keras.datasets import cifar10\n",
    "from keras.utils import np_utils\n",
    "from keras.layers import Conv2D, Dense, DepthwiseConv2D, Flatten, Dropout, Activation, MaxPooling2D\n",
    "from keras.models import Sequential\n",
    "from keras.optimizers import SGD\n",
    "from keras.constraints import NonNeg\n",
    "from keras import backend as K\n",
    "\n",
    "import matplotlib.pyplot as plt"
   ]
  },
  {
   "cell_type": "markdown",
   "metadata": {},
   "source": [
    "## Loading Data"
   ]
  },
  {
   "cell_type": "code",
   "execution_count": 2,
   "metadata": {},
   "outputs": [],
   "source": [
    "(X_train, Y_train), (X_test, Y_test) = cifar10.load_data()\n",
    "\n",
    "X_train = X_train.astype('float32')\n",
    "X_test = X_test.astype('float32')\n",
    "X_train = X_train / 255.0\n",
    "X_test = X_test / 255.0\n",
    "\n",
    "Y_train = np_utils.to_categorical(Y_train)\n",
    "Y_test = np_utils.to_categorical(Y_test)"
   ]
  },
  {
   "cell_type": "code",
   "execution_count": 3,
   "metadata": {},
   "outputs": [],
   "source": [
    "class hw_net_1(keras.layers.Layer):\n",
    "    def __init__(self, num_channels = 3, list_kernels = []):\n",
    "        super(hw_net_1, self).__init__()\n",
    "        self.num_channels = num_channels \n",
    "        self.list_kernels = list_kernels\n",
    "        \n",
    "        bias_initializer = keras.initializers.Constant(value = -3.)\n",
    "        \n",
    "        self.hw_1 = DepthwiseConv2D(kernel_size = (2, 2), strides = (1,1), padding = 'same', depth_multiplier = 1, data_format = 'channels_last')\n",
    "        self.carry_1 = DepthwiseConv2D(kernel_size = (2, 2), strides = (1,1), padding = 'same', depth_multiplier = 1, data_format = 'channels_last', bias_initializer = bias_initializer  )\n",
    "        self.hw_2 = DepthwiseConv2D(kernel_size = (2, 2), strides = (1,1), padding = 'same', depth_multiplier = 1, data_format = 'channels_last' )\n",
    "        self.carry_2 = DepthwiseConv2D(kernel_size = (2, 2), strides = (1,1), padding = 'same', depth_multiplier = 1, data_format = 'channels_last', bias_initializer = bias_initializer  )\n",
    "        self.hw_3 = DepthwiseConv2D(kernel_size = (2, 2), strides = (1,1), padding = 'same', depth_multiplier = 1, data_format = 'channels_last' )\n",
    "        self.carry_3 = DepthwiseConv2D(kernel_size = (2, 2), strides = (1,1), padding = 'same', depth_multiplier = 1, data_format = 'channels_last', bias_initializer = bias_initializer  )\n",
    "        self.hw_4 = DepthwiseConv2D(kernel_size = (2, 2), strides = (1,1), padding = 'same', depth_multiplier = 1, data_format = 'channels_last' )\n",
    "        self.carry_4 = DepthwiseConv2D(kernel_size = (2, 2), strides = (1,1), padding = 'same', depth_multiplier = 1, data_format = 'channels_last', bias_initializer = bias_initializer  )\n",
    "        self.hw_5 = DepthwiseConv2D(kernel_size = (2, 2), strides = (1,1), padding = 'same', depth_multiplier = 1, data_format = 'channels_last' )\n",
    "        self.carry_5 = DepthwiseConv2D(kernel_size = (2, 2), strides = (1,1), padding = 'same', depth_multiplier = 1, data_format = 'channels_last' , bias_initializer = bias_initializer )\n",
    "        \n",
    "    def call(self, states):\n",
    "        \n",
    "        C_1 = tf.keras.activations.sigmoid(self.carry_1(states))\n",
    "        H_1 = tf.keras.activations.relu(self.hw_1(states))\n",
    "        temp_1_1 = tf.multiply(H_1,C_1)\n",
    "        temp_1_2 = tf.multiply(states, (1 - C_1))\n",
    "        temp_1 = tf.add(temp_1_1, temp_1_2)\n",
    "        C_2 = tf.keras.activations.sigmoid(self.carry_2(temp_1))\n",
    "        H_2 = tf.keras.activations.relu(self.hw_2(temp_1))\n",
    "        temp_2_1 = tf.multiply(H_2,C_2)\n",
    "        temp_2_2 = tf.multiply(temp_1, (1 - C_2))\n",
    "        temp_2 = tf.add(temp_2_1, temp_2_2)\n",
    "        C_3 = tf.keras.activations.sigmoid(self.carry_3(temp_2))\n",
    "        H_3 = tf.keras.activations.relu(self.hw_3(temp_2))\n",
    "        temp_3_1 = tf.multiply(H_3,C_3)\n",
    "        temp_3_2 = tf.multiply(temp_2, (1 - C_3))\n",
    "        temp_3 = tf.add(temp_3_1, temp_3_2)\n",
    "        C_4 = tf.keras.activations.sigmoid(self.carry_4(temp_3))\n",
    "        H_4 = tf.keras.activations.relu(self.hw_4(temp_3))\n",
    "        temp_4_1 = tf.multiply(H_4,C_4)\n",
    "        temp_4_2 = tf.multiply(temp_3, (1 - C_4))\n",
    "        temp_4 = tf.add(temp_4_1, temp_1_2)\n",
    "        C_5 = tf.keras.activations.sigmoid(self.carry_5(temp_4))\n",
    "        H_5 = tf.keras.activations.relu(self.hw_5(temp_4))\n",
    "        temp_5_1 = tf.multiply(H_5,C_5)\n",
    "        temp_5_2 = tf.multiply(temp_4, (1 - C_5))\n",
    "        final = tf.add(temp_5_1, temp_5_2)\n",
    "               \n",
    "        return final"
   ]
  },
  {
   "cell_type": "code",
   "execution_count": 4,
   "metadata": {},
   "outputs": [
    {
     "data": {
      "text/plain": [
       "<tf.Tensor 'hw_net_1_1/Add_4:0' shape=(16, 32, 32, 3) dtype=float32>"
      ]
     },
     "execution_count": 4,
     "metadata": {},
     "output_type": "execute_result"
    }
   ],
   "source": [
    "p = hw_net_1()\n",
    "prova = np.ones((16, 32, 32, 3), dtype = np.float32)\n",
    "prova = tf.constant(prova)\n",
    "p(prova)"
   ]
  },
  {
   "cell_type": "code",
   "execution_count": 5,
   "metadata": {},
   "outputs": [],
   "source": [
    "class hw_net_2(keras.layers.Layer):\n",
    "    def __init__(self, num_channels = 3, list_kernels = []):\n",
    "        super(hw_net_2, self).__init__()\n",
    "        self.num_channels = num_channels \n",
    "        self.list_kernels = list_kernels\n",
    "        \n",
    "        bias_initializer = keras.initializers.Constant(value=-3.)\n",
    "        \n",
    "        self.hw_1 = DepthwiseConv2D(kernel_size = (2, 2), strides = (1,1), padding = 'same', depth_multiplier = 1, data_format = 'channels_last' )\n",
    "        self.carry_1 = DepthwiseConv2D(kernel_size = (2, 2), strides = (1,1), padding = 'same', depth_multiplier = 1, data_format = 'channels_last', bias_initializer = bias_initializer  )\n",
    "        self.hw_2 = DepthwiseConv2D(kernel_size = (2, 2), strides = (1,1), padding = 'same', depth_multiplier = 1, data_format = 'channels_last' )\n",
    "        self.carry_2 = DepthwiseConv2D(kernel_size = (2, 2), strides = (1,1), padding = 'same', depth_multiplier = 1, data_format = 'channels_last', bias_initializer = bias_initializer )\n",
    "        self.hw_3 = DepthwiseConv2D(kernel_size = (2, 2), strides = (1,1), padding = 'same', depth_multiplier = 1, data_format = 'channels_last' )\n",
    "        self.carry_3 = DepthwiseConv2D(kernel_size = (2, 2), strides = (1,1), padding = 'same', depth_multiplier = 1, data_format = 'channels_last', bias_initializer = bias_initializer )\n",
    "        self.hw_4 = DepthwiseConv2D(kernel_size = (2, 2), strides = (1,1), padding = 'same', depth_multiplier = 1, data_format = 'channels_last' )\n",
    "        self.carry_4 = DepthwiseConv2D(kernel_size = (2, 2), strides = (1,1), padding = 'same', depth_multiplier = 1, data_format = 'channels_last', bias_initializer = bias_initializer )\n",
    "\n",
    "    def call(self, states):\n",
    "        \n",
    "        C_1 = tf.keras.activations.sigmoid(self.carry_1(states))\n",
    "        H_1 = tf.keras.activations.relu(self.hw_1(states))\n",
    "        temp_1_1 = tf.multiply(H_1,C_1)\n",
    "        temp_1_2 = tf.multiply(states, (1 - C_1))\n",
    "        temp_1 = tf.add(temp_1_1, temp_1_2)\n",
    "        C_2 = tf.keras.activations.sigmoid(self.carry_2(temp_1))\n",
    "        H_2 = tf.keras.activations.relu(self.hw_2(temp_1))\n",
    "        temp_2_1 = tf.multiply(H_2,C_2)\n",
    "        temp_2_2 = tf.multiply(temp_1, (1 - C_2))\n",
    "        temp_2 = tf.add(temp_2_1, temp_2_2)\n",
    "        C_3 = tf.keras.activations.sigmoid(self.carry_3(temp_2))\n",
    "        H_3 = tf.keras.activations.relu(self.hw_3(temp_2))\n",
    "        temp_3_1 = tf.multiply(H_3,C_3)\n",
    "        temp_3_2 = tf.multiply(temp_2, (1 - C_3))\n",
    "        temp_3 = tf.add(temp_3_1, temp_3_2)\n",
    "        C_4 = tf.keras.activations.sigmoid(self.carry_4(temp_3))\n",
    "        H_4 = tf.keras.activations.relu(self.hw_4(temp_3))\n",
    "        temp_4_1 = tf.multiply(H_4,C_4)\n",
    "        temp_4_2 = tf.multiply(temp_3, (1 - C_4))\n",
    "        final = tf.add(temp_4_1, temp_1_2)\n",
    "               \n",
    "        return final"
   ]
  },
  {
   "cell_type": "code",
   "execution_count": 6,
   "metadata": {},
   "outputs": [],
   "source": [
    "class hw_net_3(keras.layers.Layer):\n",
    "    def __init__(self):\n",
    "        super(hw_net_3, self).__init__()\n",
    "        \n",
    "        bias_initializer = keras.initializers.Constant(value=-3.)\n",
    "\n",
    "        \n",
    "        self.hw_1 = DepthwiseConv2D(kernel_size = (2, 2), strides = (1,1), padding = 'same', depth_multiplier = 1, data_format = 'channels_last' )\n",
    "        self.carry_1 = DepthwiseConv2D(kernel_size = (2, 2), strides = (1,1), padding = 'same', depth_multiplier = 1, data_format = 'channels_last', bias_initializer = bias_initializer )\n",
    "        self.hw_2 = DepthwiseConv2D(kernel_size = (2, 2), strides = (1,1), padding = 'same', depth_multiplier = 1, data_format = 'channels_last' )\n",
    "        self.carry_2 = DepthwiseConv2D(kernel_size = (2, 2), strides = (1,1), padding = 'same', depth_multiplier = 1, data_format = 'channels_last', bias_initializer = bias_initializer )\n",
    "        self.hw_3 = DepthwiseConv2D(kernel_size = (2, 2), strides = (1,1), padding = 'same', depth_multiplier = 1, data_format = 'channels_last' )\n",
    "        self.carry_3 = DepthwiseConv2D(kernel_size = (2, 2), strides = (1,1), padding = 'same', depth_multiplier = 1, data_format = 'channels_last', bias_initializer = bias_initializer )\n",
    "\n",
    "    def call(self, states):\n",
    "        \n",
    "        C_1 = tf.keras.activations.sigmoid(self.carry_1(states))\n",
    "        H_1 = tf.keras.activations.relu(self.hw_1(states))\n",
    "        temp_1_1 = tf.multiply(H_1,C_1)\n",
    "        temp_1_2 = tf.multiply(states, (1 - C_1))\n",
    "        temp_1 = tf.add(temp_1_1, temp_1_2)\n",
    "        C_2 = tf.keras.activations.sigmoid(self.carry_2(temp_1))\n",
    "        H_2 = tf.keras.activations.relu(self.hw_2(temp_1))\n",
    "        temp_2_1 = tf.multiply(H_2,C_2)\n",
    "        temp_2_2 = tf.multiply(temp_1, (1 - C_2))\n",
    "        temp_2 = tf.add(temp_2_1, temp_2_2)\n",
    "        C_3 = tf.keras.activations.sigmoid(self.carry_3(temp_2))\n",
    "        H_3 = tf.keras.activations.relu(self.hw_3(temp_2))\n",
    "        temp_3_1 = tf.multiply(H_3,C_3)\n",
    "        temp_3_2 = tf.multiply(temp_2, (1 - C_3))\n",
    "        final = tf.add(temp_3_1, temp_3_2)\n",
    "               \n",
    "        return final"
   ]
  },
  {
   "cell_type": "code",
   "execution_count": 7,
   "metadata": {},
   "outputs": [],
   "source": [
    "def Model_highway(weights = None):\n",
    "    \n",
    "    model = Sequential()\n",
    "    \n",
    "    model.add(Conv2D(16, kernel_size = (3, 3), padding = 'same', name = 'conv_1', input_shape = ( 32, 32, 3)))\n",
    "    model.add(hw_net_1())\n",
    "    model.add(Activation('relu'))\n",
    "    model.add(MaxPooling2D(pool_size=(2, 2), strides=(2,2), padding=\"valid\", data_format='channels_last'))\n",
    "    model.add(Conv2D(32, kernel_size = (3, 3), padding = 'same', name = 'conv_3'))\n",
    "    model.add(hw_net_2())\n",
    "    model.add(Activation('relu'))\n",
    "    model.add(MaxPooling2D(pool_size=(2, 2), strides=(2, 2), padding=\"valid\", data_format = 'channels_last'))\n",
    "    model.add(Conv2D(64, kernel_size = (3, 3), padding = 'same', name = 'conv_4'))\n",
    "    model.add(hw_net_3())\n",
    "    model.add(Activation('relu'))\n",
    "    \n",
    "    model.add(MaxPooling2D(pool_size=(2, 2), strides=(2, 2), padding=\"valid\", data_format = 'channels_last'))\n",
    "    \n",
    "    model.add(Flatten())\n",
    "    model.add(Dropout(0.25))\n",
    "    \n",
    "    model.add(Dense(500, name = 'dense_1', activation = 'relu'))\n",
    "    model.add(Dropout(0.25))\n",
    "    model.add(Dense(10, name = 'dense_2'))\n",
    "    model.add(Activation('softmax'))\n",
    "    \n",
    "    if weights:\n",
    "        model.load_weights(weights)\n",
    "        \n",
    "    return model"
   ]
  },
  {
   "cell_type": "code",
   "execution_count": 8,
   "metadata": {},
   "outputs": [],
   "source": [
    "learning_rate = 0.009\n",
    "weight_decay = 1e-6\n",
    "momentum = 0.09\n",
    "epochs = 25\n",
    "batch_size = 64"
   ]
  },
  {
   "cell_type": "code",
   "execution_count": 9,
   "metadata": {},
   "outputs": [
    {
     "name": "stdout",
     "output_type": "stream",
     "text": [
      "Model: \"sequential_1\"\n",
      "_________________________________________________________________\n",
      "Layer (type)                 Output Shape              Param #   \n",
      "=================================================================\n",
      "conv_1 (Conv2D)              (None, 32, 32, 16)        448       \n",
      "_________________________________________________________________\n",
      "hw_net_1_2 (hw_net_1)        (None, 32, 32, 16)        800       \n",
      "_________________________________________________________________\n",
      "activation_1 (Activation)    (None, 32, 32, 16)        0         \n",
      "_________________________________________________________________\n",
      "max_pooling2d_1 (MaxPooling2 (None, 16, 16, 16)        0         \n",
      "_________________________________________________________________\n",
      "conv_3 (Conv2D)              (None, 16, 16, 32)        4640      \n",
      "_________________________________________________________________\n",
      "hw_net_2_1 (hw_net_2)        (None, 16, 16, 32)        1280      \n",
      "_________________________________________________________________\n",
      "activation_2 (Activation)    (None, 16, 16, 32)        0         \n",
      "_________________________________________________________________\n",
      "max_pooling2d_2 (MaxPooling2 (None, 8, 8, 32)          0         \n",
      "_________________________________________________________________\n",
      "conv_4 (Conv2D)              (None, 8, 8, 64)          18496     \n",
      "_________________________________________________________________\n",
      "hw_net_3_1 (hw_net_3)        (None, 8, 8, 64)          1920      \n",
      "_________________________________________________________________\n",
      "activation_3 (Activation)    (None, 8, 8, 64)          0         \n",
      "_________________________________________________________________\n",
      "max_pooling2d_3 (MaxPooling2 (None, 4, 4, 64)          0         \n",
      "_________________________________________________________________\n",
      "flatten_1 (Flatten)          (None, 1024)              0         \n",
      "_________________________________________________________________\n",
      "dropout_1 (Dropout)          (None, 1024)              0         \n",
      "_________________________________________________________________\n",
      "dense_1 (Dense)              (None, 500)               512500    \n",
      "_________________________________________________________________\n",
      "dropout_2 (Dropout)          (None, 500)               0         \n",
      "_________________________________________________________________\n",
      "dense_2 (Dense)              (None, 10)                5010      \n",
      "_________________________________________________________________\n",
      "activation_4 (Activation)    (None, 10)                0         \n",
      "=================================================================\n",
      "Total params: 545,094\n",
      "Trainable params: 545,094\n",
      "Non-trainable params: 0\n",
      "_________________________________________________________________\n"
     ]
    }
   ],
   "source": [
    "model = Model_highway()\n",
    "model.save_weights('model_weights_cifar10_cnn.h5')\n",
    "\n",
    "optimizer_no_norm = SGD(lr = learning_rate, decay = weight_decay, momentum = momentum, nesterov = True)\n",
    "model.compile(loss = 'categorical_crossentropy', optimizer = optimizer_no_norm, metrics = ['accuracy'])\n",
    "model.summary()"
   ]
  },
  {
   "cell_type": "code",
   "execution_count": 10,
   "metadata": {},
   "outputs": [
    {
     "name": "stdout",
     "output_type": "stream",
     "text": [
      "Train on 50000 samples, validate on 10000 samples\n",
      "Epoch 1/25\n",
      "50000/50000 [==============================] - 11s 226us/step - loss: 2.2057 - accuracy: 0.1703 - val_loss: 2.0087 - val_accuracy: 0.2705\n",
      "Epoch 2/25\n",
      "50000/50000 [==============================] - 9s 183us/step - loss: 1.9920 - accuracy: 0.2686 - val_loss: 1.8754 - val_accuracy: 0.3360\n",
      "Epoch 3/25\n",
      "50000/50000 [==============================] - 9s 184us/step - loss: 1.8624 - accuracy: 0.3268 - val_loss: 1.7327 - val_accuracy: 0.3846\n",
      "Epoch 4/25\n",
      "50000/50000 [==============================] - 9s 181us/step - loss: 1.7307 - accuracy: 0.3749 - val_loss: 1.6010 - val_accuracy: 0.4196\n",
      "Epoch 5/25\n",
      "50000/50000 [==============================] - 9s 181us/step - loss: 1.6409 - accuracy: 0.4026 - val_loss: 1.5288 - val_accuracy: 0.4408\n",
      "Epoch 6/25\n",
      "50000/50000 [==============================] - 9s 181us/step - loss: 1.5651 - accuracy: 0.4297 - val_loss: 1.8370 - val_accuracy: 0.3729\n",
      "Epoch 7/25\n",
      "50000/50000 [==============================] - 9s 182us/step - loss: 1.5139 - accuracy: 0.4493 - val_loss: 1.4430 - val_accuracy: 0.4814\n",
      "Epoch 8/25\n",
      "50000/50000 [==============================] - 9s 183us/step - loss: 1.4659 - accuracy: 0.4700 - val_loss: 1.5251 - val_accuracy: 0.4675\n",
      "Epoch 9/25\n",
      "50000/50000 [==============================] - 9s 182us/step - loss: 1.4266 - accuracy: 0.4873 - val_loss: 1.4772 - val_accuracy: 0.4791\n",
      "Epoch 10/25\n",
      "50000/50000 [==============================] - 9s 183us/step - loss: 1.3921 - accuracy: 0.4986 - val_loss: 1.3118 - val_accuracy: 0.5345\n",
      "Epoch 11/25\n",
      "50000/50000 [==============================] - 9s 183us/step - loss: 1.3604 - accuracy: 0.5109 - val_loss: 1.3066 - val_accuracy: 0.5346\n",
      "Epoch 12/25\n",
      "50000/50000 [==============================] - 9s 182us/step - loss: 1.3321 - accuracy: 0.5239 - val_loss: 1.2541 - val_accuracy: 0.5548\n",
      "Epoch 13/25\n",
      "50000/50000 [==============================] - 9s 183us/step - loss: 1.3023 - accuracy: 0.5336 - val_loss: 1.2670 - val_accuracy: 0.5489\n",
      "Epoch 14/25\n",
      "50000/50000 [==============================] - 9s 183us/step - loss: 1.2758 - accuracy: 0.5451 - val_loss: 1.2285 - val_accuracy: 0.5637\n",
      "Epoch 15/25\n",
      "50000/50000 [==============================] - 9s 183us/step - loss: 1.2472 - accuracy: 0.5562 - val_loss: 1.1783 - val_accuracy: 0.5856\n",
      "Epoch 16/25\n",
      "50000/50000 [==============================] - 9s 183us/step - loss: 1.2280 - accuracy: 0.5641 - val_loss: 1.3553 - val_accuracy: 0.5340\n",
      "Epoch 17/25\n",
      "50000/50000 [==============================] - 9s 184us/step - loss: 1.2049 - accuracy: 0.5732 - val_loss: 1.1537 - val_accuracy: 0.5897\n",
      "Epoch 18/25\n",
      "50000/50000 [==============================] - 9s 184us/step - loss: 1.1793 - accuracy: 0.5824 - val_loss: 1.1677 - val_accuracy: 0.5902\n",
      "Epoch 19/25\n",
      "50000/50000 [==============================] - 9s 184us/step - loss: 1.1587 - accuracy: 0.5908 - val_loss: 1.1292 - val_accuracy: 0.6028\n",
      "Epoch 20/25\n",
      "50000/50000 [==============================] - 9s 183us/step - loss: 1.1354 - accuracy: 0.5986 - val_loss: 1.1271 - val_accuracy: 0.5976\n",
      "Epoch 21/25\n",
      "50000/50000 [==============================] - 9s 183us/step - loss: 1.1183 - accuracy: 0.6053 - val_loss: 1.0578 - val_accuracy: 0.6305\n",
      "Epoch 22/25\n",
      "50000/50000 [==============================] - 9s 184us/step - loss: 1.1021 - accuracy: 0.6134 - val_loss: 1.1482 - val_accuracy: 0.5985\n",
      "Epoch 23/25\n",
      "50000/50000 [==============================] - 9s 184us/step - loss: 1.0795 - accuracy: 0.6180 - val_loss: 1.0649 - val_accuracy: 0.6169\n",
      "Epoch 24/25\n",
      "50000/50000 [==============================] - 9s 183us/step - loss: 1.0634 - accuracy: 0.6252 - val_loss: 1.0061 - val_accuracy: 0.6515\n",
      "Epoch 25/25\n",
      "50000/50000 [==============================] - 9s 184us/step - loss: 1.0490 - accuracy: 0.6315 - val_loss: 0.9934 - val_accuracy: 0.6545\n",
      "time elapsed = 232.37295579910278\n"
     ]
    }
   ],
   "source": [
    "start = time.time()\n",
    "history = model.fit(X_train, Y_train, validation_data=(X_test, Y_test), epochs=epochs, batch_size=batch_size, verbose = 1)\n",
    "end = time.time()\n",
    "print(\"time elapsed = {}\".format(end - start))"
   ]
  },
  {
   "cell_type": "code",
   "execution_count": 52,
   "metadata": {},
   "outputs": [
    {
     "data": {
      "text/plain": [
       "<tf.Tensor 'hw_net_1_11_1/Add_4:0' shape=(16, 32, 32, 3) dtype=float32>"
      ]
     },
     "execution_count": 52,
     "metadata": {},
     "output_type": "execute_result"
    }
   ],
   "source": [
    "p(prova)"
   ]
  },
  {
   "cell_type": "code",
   "execution_count": null,
   "metadata": {},
   "outputs": [],
   "source": []
  }
 ],
 "metadata": {
  "kernelspec": {
   "display_name": "Python 3",
   "language": "python",
   "name": "python3"
  },
  "language_info": {
   "codemirror_mode": {
    "name": "ipython",
    "version": 3
   },
   "file_extension": ".py",
   "mimetype": "text/x-python",
   "name": "python",
   "nbconvert_exporter": "python",
   "pygments_lexer": "ipython3",
   "version": "3.8.5"
  }
 },
 "nbformat": 4,
 "nbformat_minor": 4
}
